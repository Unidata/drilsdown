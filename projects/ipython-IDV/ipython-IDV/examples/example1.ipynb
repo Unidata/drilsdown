{
 "cells": [
  {
   "cell_type": "code",
   "execution_count": 2,
   "metadata": {
    "collapsed": false
   },
   "outputs": [],
   "source": [
    "%reload_ext drilsdown\n",
    "from drilsdown import Idv\n",
    "from drilsdown import Ramadda\n"
   ]
  },
  {
   "cell_type": "code",
   "execution_count": 3,
   "metadata": {
    "collapsed": true
   },
   "outputs": [],
   "source": [
    "Ramadda.setRamadda(\"http://geodesystems.com/repository/entry/show?entryid=12704a38-9a06-4989-aac4-dafbbe13a675\")\n",
    "if Idv.fileUrl is None:\n",
    "    Idv.fileUrl=\"http://geodesystems.com/repository/entry/get?entryid=d83e0924-008d-4025-9517-394e9f13712f\"\n",
    "bboxes = [[50,-130,40,-100],[50,-100,40,-75],[40,-130,20,-100],[40,-100,20,-75]]\n",
    "for i in range(len(bboxes)):\n",
    "    bbox=bboxes[i];\n",
    "    Idv.loadBundle(Idv.fileUrl,bbox);\n",
    "    label = \"BBOX:\" + repr(bbox[0]) +\"/\" + repr(bbox[1]) +\"  \" + repr(bbox[2]) +\"/\" + repr(bbox[3]);\n",
    "    Idv.makeMovie(caption=label,display=True)\n"
   ]
  },
  {
   "cell_type": "code",
   "execution_count": null,
   "metadata": {
    "collapsed": true
   },
   "outputs": [],
   "source": []
  }
 ],
 "metadata": {
  "anaconda-cloud": {},
  "kernelspec": {
   "display_name": "Python [Root]",
   "language": "python",
   "name": "Python [Root]"
  },
  "language_info": {
   "codemirror_mode": {
    "name": "ipython",
    "version": 3
   },
   "file_extension": ".py",
   "mimetype": "text/x-python",
   "name": "python",
   "nbconvert_exporter": "python",
   "pygments_lexer": "ipython3",
   "version": "3.5.2"
  },
  "widgets": {
   "state": {
    "00a1e3c0fb754725a7e9013769d539cc": {
     "views": [
      {
       "cell_index": 1
      }
     ]
    },
    "1ec789f8752a492ba8bd9775fa1e9611": {
     "views": [
      {
       "cell_index": 1
      }
     ]
    },
    "9acc324017cc4fc4b7d2e60292f007f2": {
     "views": [
      {
       "cell_index": 1
      }
     ]
    },
    "b4ea3327324c488cb7d8e257982c939e": {
     "views": [
      {
       "cell_index": 1
      }
     ]
    },
    "bfa3626e350c4f2299c436920b6d83ae": {
     "views": [
      {
       "cell_index": 1
      }
     ]
    },
    "c039deadc124470aa8a61a01ffcfc85f": {
     "views": [
      {
       "cell_index": 1
      }
     ]
    },
    "cf3528b6d6ff4fa6a99c7bd90faea3bd": {
     "views": [
      {
       "cell_index": 1
      }
     ]
    }
   },
   "version": "1.2.0"
  }
 },
 "nbformat": 4,
 "nbformat_minor": 0
}
