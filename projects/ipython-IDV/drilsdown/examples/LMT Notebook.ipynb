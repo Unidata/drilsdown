{
 "cells": [
  {
   "cell_type": "code",
   "execution_count": 2,
   "metadata": {
    "collapsed": false,
    "deletable": true,
    "editable": true
   },
   "outputs": [],
   "source": [
    "%reload_ext drilsdown\n",
    "from drilsdown import Idv\n",
    "from drilsdown import Ramadda\n",
    "Ramadda(\"http://weather.rsmas.miami.edu/repository/entry/show?entryid=4928328d-4148-4a35-8c36-f8c77f2680bc\").doList(label=\"LMT Manual Materials\",display=True)\n"
   ]
  },
  {
   "cell_type": "code",
   "execution_count": null,
   "metadata": {
    "collapsed": true,
    "deletable": true,
    "editable": true
   },
   "outputs": [],
   "source": []
  }
 ],
 "metadata": {
  "kernelspec": {
   "display_name": "Python 3",
   "language": "python",
   "name": "python3"
  },
  "language_info": {
   "codemirror_mode": {
    "name": "ipython",
    "version": 3
   },
   "file_extension": ".py",
   "mimetype": "text/x-python",
   "name": "python",
   "nbconvert_exporter": "python",
   "pygments_lexer": "ipython3",
   "version": "3.6.0"
  },
  "widgets": {
   "state": {
    "bb9ea18da9a4403fa1942b8e78f09975": {
     "views": [
      {
       "cell_index": 0
      }
     ]
    },
    "cee61e5dc7b24c859e96f893afa02983": {
     "views": [
      {
       "cell_index": 0
      }
     ]
    }
   },
   "version": "1.2.0"
  }
 },
 "nbformat": 4,
 "nbformat_minor": 2
}
