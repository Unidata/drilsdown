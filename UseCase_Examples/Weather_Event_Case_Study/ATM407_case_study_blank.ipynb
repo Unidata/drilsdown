{
 "cells": [
  {
   "cell_type": "markdown",
   "metadata": {},
   "source": [
    "<a name=\"top\"></a>\n",
    "\n",
    "<div style=\"width:1000 px\">\n",
    "\n",
    "<div style=\"float:right; width:300 px\"><img src=\"https://www.earthcube.org/sites/default/files/doc-repository/logo_earthcube_cube-only_SMALL.png\" alt=\"EarthCube logo\" style=\"height: 200px;\"></div>\n",
    "\n",
    "<h1>Case study of EVENTNAME</h1>\n",
    "\n",
    "<h2>Selected because REASON</h2>\n",
    "\n",
    "<h3>As seen at Web pages</h3>\n",
    "\n",
    "[link](http://www.rsmas.miami.edu)\n",
    "\n",
    "Make this part of the notebook sensible to read.\n",
    "\n",
    "<br>\n",
    "\n",
    "<hr style=\"height:2px;\">\n",
    "\n",
    "To operate this Jupyter notebook, you need to have installed The IDV, Anaconda (Jupyter and ipython), and set up a few necessary things for the DRILSDOWN package, as explained at https://unidata.github.io/drilsdown/quickstart\n",
    "\n",
    "<hr style=\"height:2px;\">\n",
    "\n",
    "\n",
    "### Sections within this notebook\n",
    "1. <a href=\"#Anchor0\">The story, with Web and journalism links</a>\n",
    "1. <a href=\"#Anchor1\">The meteorology: large-scale 2D flow evolution</a>\n",
    "1. <a href=\"#Anchor3\">The meteorology: analyses of 3D fields</a>\n",
    "1. <a href=\"#Anchor2\">The meteorology: clouds and rain, connection to soundings, etc.</a>\n",
    "\n",
    "<div style=\"clear:both\"></div>\n",
    "</div>\n",
    "\n",
    "<hr style=\"height:2px;\">"
   ]
  },
  {
   "cell_type": "markdown",
   "metadata": {},
   "source": [
    "<a name=\"Anchor0\"></a> \n",
    "<div class=\"alert alert-success\">\n",
    "    <b>**The story, with Web and journalism links**</b>:\n",
    "     <ul>\n",
    "\n",
    "<li>*Write a coherent narrative in your own words about the event, with links.*</li>\n",
    "\n",
    "<li>The goal is to make this document a professional portfolio item you're proud of</li>\n",
    "\n",
    "    </ul>\n",
    "</div>"
   ]
  },
  {
   "cell_type": "code",
   "execution_count": null,
   "metadata": {},
   "outputs": [],
   "source": []
  },
  {
   "cell_type": "code",
   "execution_count": null,
   "metadata": {},
   "outputs": [],
   "source": []
  },
  {
   "cell_type": "code",
   "execution_count": null,
   "metadata": {},
   "outputs": [],
   "source": []
  },
  {
   "cell_type": "code",
   "execution_count": null,
   "metadata": {},
   "outputs": [],
   "source": []
  },
  {
   "cell_type": "markdown",
   "metadata": {},
   "source": [
    "<hr style=\"height:2px;\">"
   ]
  },
  {
   "cell_type": "markdown",
   "metadata": {},
   "source": [
    "<a name=\"Anchor1\"></a> \n",
    "<div class=\"alert alert-success\">\n",
    "    <b>**The meteorology, with IDV images**</b>:\n",
    "     <ul>\n",
    "\n",
    "<li>*Examine the 2D fields* and get a good understanding of your case.</li>\n",
    "\n",
    "<li>Illustrate your clear verbal description with images or short loops of crucial events or steps in the evolution.</li>\n",
    "\n",
    "    </ul>\n",
    "</div>"
   ]
  },
  {
   "cell_type": "code",
   "execution_count": null,
   "metadata": {},
   "outputs": [],
   "source": [
    "%reload_ext drilsdown"
   ]
  },
  {
   "cell_type": "markdown",
   "metadata": {},
   "source": [
    "### The 500 mb evolution of the event"
   ]
  },
  {
   "cell_type": "code",
   "execution_count": null,
   "metadata": {
    "scrolled": true
   },
   "outputs": [],
   "source": [
    "%make_image -capture legend -caption 'My great image'"
   ]
  },
  {
   "cell_type": "markdown",
   "metadata": {},
   "source": [
    "#### Caption:  xxx\n",
    "\n",
    "### Meaning:\n",
    "The material above indicates that ..."
   ]
  },
  {
   "cell_type": "code",
   "execution_count": null,
   "metadata": {},
   "outputs": [],
   "source": [
    "# Moving image \n",
    "%make_movie -capture legend -caption 'My great image'"
   ]
  },
  {
   "cell_type": "markdown",
   "metadata": {},
   "source": [
    "#### Caption:  xxx\n",
    "\n",
    "### Meaning:\n",
    "The material above indicates that ..."
   ]
  },
  {
   "cell_type": "markdown",
   "metadata": {},
   "source": [
    "<hr style=\"height:2px;\">\n",
    "<a href=\"#top\">Top</a>\n",
    "<hr style=\"height:2px;\">"
   ]
  },
  {
   "cell_type": "markdown",
   "metadata": {},
   "source": [
    "<a name=\"Anchor2\"></a> \n",
    "## The meteorology: analyses of 3D fields"
   ]
  },
  {
   "cell_type": "markdown",
   "metadata": {},
   "source": [
    "<div class=\"alert alert-info\">\n",
    "    <b>Note</b>:\n",
    "     Load the 3D bundle, and use the 3D isosurface to understand the 3D strcture of the vortices you saw at 500 mb.\n",
    "</div>"
   ]
  },
  {
   "cell_type": "markdown",
   "metadata": {},
   "source": [
    "### Tell the story"
   ]
  },
  {
   "cell_type": "code",
   "execution_count": null,
   "metadata": {
    "scrolled": true
   },
   "outputs": [],
   "source": [
    "%make_image -capture legend -caption 'My great image'"
   ]
  },
  {
   "cell_type": "markdown",
   "metadata": {},
   "source": [
    "#### Caption:  xxx\n",
    "\n",
    "### Meaning:\n",
    "The material above indicates that ..."
   ]
  },
  {
   "cell_type": "code",
   "execution_count": null,
   "metadata": {},
   "outputs": [],
   "source": [
    "# Moving image \n",
    "%make_movie -capture legend -caption 'My great image'"
   ]
  },
  {
   "cell_type": "markdown",
   "metadata": {},
   "source": [
    "#### Caption:  xxx\n",
    "\n",
    "### Meaning:\n",
    "The material above indicates that ..."
   ]
  },
  {
   "cell_type": "markdown",
   "metadata": {},
   "source": [
    "<a href=\"#top\">Top</a>\n",
    "<hr style=\"height:2px;\">"
   ]
  },
  {
   "cell_type": "markdown",
   "metadata": {},
   "source": [
    "<a name=\"Anchor3\"></a> \n",
    "<div class=\"alert alert-success\">\n",
    "    <b>Clouds and rain and connection to soundings (thermo)</b>:\n",
    "     <ul>\n",
    "      <li>**Tell the story**\n",
    "           </li>      \n",
    "    </ul>\n",
    "</div>"
   ]
  },
  {
   "cell_type": "code",
   "execution_count": null,
   "metadata": {
    "scrolled": true
   },
   "outputs": [],
   "source": [
    "%make_image -capture legend -caption 'My great image'"
   ]
  },
  {
   "cell_type": "markdown",
   "metadata": {},
   "source": [
    "#### Caption:  xxx\n",
    "\n",
    "### Meaning:\n",
    "The material above indicates that ..."
   ]
  },
  {
   "cell_type": "code",
   "execution_count": null,
   "metadata": {},
   "outputs": [],
   "source": [
    "# Moving image \n",
    "%make_movie -capture legend -caption 'My great image'"
   ]
  },
  {
   "cell_type": "markdown",
   "metadata": {},
   "source": [
    "#### Caption:  xxx\n",
    "\n",
    "### Meaning:\n",
    "The material above indicates that ..."
   ]
  },
  {
   "cell_type": "markdown",
   "metadata": {},
   "source": [
    "<a href=\"#top\">Top</a>\n",
    "<hr style=\"height:2px;\">"
   ]
  }
 ],
 "metadata": {
  "anaconda-cloud": {},
  "kernelspec": {
   "display_name": "Python 3",
   "language": "python",
   "name": "python3"
  },
  "language_info": {
   "codemirror_mode": {
    "name": "ipython",
    "version": 3
   },
   "file_extension": ".py",
   "mimetype": "text/x-python",
   "name": "python",
   "nbconvert_exporter": "python",
   "pygments_lexer": "ipython3",
   "version": "3.6.5"
  }
 },
 "nbformat": 4,
 "nbformat_minor": 1
}
