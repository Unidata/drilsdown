{
 "cells": [
  {
   "cell_type": "markdown",
   "metadata": {},
   "source": [
    "# Demonstrate xarray.from_zidv() method\n",
    "\n"
   ]
  },
  {
   "cell_type": "code",
   "execution_count": 2,
   "metadata": {},
   "outputs": [
    {
     "data": {
      "application/vnd.jupyter.widget-view+json": {
       "model_id": "ec2eb0df174e4a01a34fcbd1c0e3c452",
       "version_major": 2,
       "version_minor": 0
      },
      "text/plain": [
       "VBox(children=(HTML(value='<h3>ipython_IDV Control Panel</h3>'), HBox(children=(HTML(value='<b>Resources:</b>'…"
      ]
     },
     "metadata": {},
     "output_type": "display_data"
    }
   ],
   "source": [
    "%reload_ext ipython_IDV"
   ]
  },
  {
   "cell_type": "code",
   "execution_count": 4,
   "metadata": {},
   "outputs": [
    {
     "data": {
      "text/plain": [
       "<xarray.Dataset>\n",
       "Dimensions:      (Depth: 33, Latitude: 278, Longitude: 201, MT: 1, lat: 601, lon: 481)\n",
       "Coordinates:\n",
       "  * MT           (MT) datetime64[ns] 2010-01-01\n",
       "  * Depth        (Depth) float32 5.0 10.0 20.0 30.0 50.0 75.0 100.0 125.0 ...\n",
       "  * Latitude     (Latitude) float32 19.98216 20.019747 20.057325 20.094894 ...\n",
       "  * Longitude    (Longitude) float32 -90.0 -89.96002 -89.91998 -89.880005 ...\n",
       "  * lat          (lat) float32 20.0 20.016666 20.033333 20.05 20.066668 ...\n",
       "  * lon          (lon) float64 -90.0 -89.98 -89.97 -89.95 -89.93 -89.92 ...\n",
       "Data variables:\n",
       "    temperature  (MT, Depth, Latitude, Longitude) float32 ...\n",
       "    u            (MT, Depth, Latitude, Longitude) float32 ...\n",
       "    v            (MT, Depth, Latitude, Longitude) float32 ...\n",
       "    topo         (lat, lon) float32 ..."
      ]
     },
     "execution_count": 4,
     "metadata": {},
     "output_type": "execute_result"
    }
   ],
   "source": [
    "import xarray as xr\n",
    "xr.from_zidv('http://earthcube.ccs.miami.edu:8080/repository/entry/get/GOM_shredding_event_2006-06-11.zidv?entryid=51b5a9b6-061c-4a50-a397-ec0aa67f81eb')"
   ]
  },
  {
   "cell_type": "code",
   "execution_count": null,
   "metadata": {},
   "outputs": [],
   "source": []
  }
 ],
 "metadata": {
  "kernelspec": {
   "display_name": "Python 3",
   "language": "python",
   "name": "python3"
  },
  "language_info": {
   "codemirror_mode": {
    "name": "ipython",
    "version": 3
   },
   "file_extension": ".py",
   "mimetype": "text/x-python",
   "name": "python",
   "nbconvert_exporter": "python",
   "pygments_lexer": "ipython3",
   "version": "3.6.5"
  }
 },
 "nbformat": 4,
 "nbformat_minor": 2
}
