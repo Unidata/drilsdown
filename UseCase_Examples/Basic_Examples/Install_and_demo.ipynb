{
 "cells": [
  {
   "cell_type": "markdown",
   "metadata": {},
   "source": [
    "<a name=\"top\"></a>\n",
    "<div style=\"width:600 px\">\n",
    "\n",
    "<div style=\"float:right; width:340 px; height:300px;\">\n",
    "<img src=\"https://raw.githubusercontent.com/unidata/drilsdown/master/docs/_static/DRILSDOWN_logo.png\" alt=\"DRILSDOWN Logo\" style=\"height: 300px;\">\n",
    "</div>\n",
    "\n",
    "<div style=\"float:right; width:98 px; height:98px;\">\n",
    "<img src=\"https://www.earthcube.org/sites/default/files/doc-repository/logo_earthcube_cube-only_SMALL.png\" alt=\"Earthcube Logo\" style=\"height: 98px;\">\n",
    "</div>\n",
    "\n",
    "\n",
    "<h1>DRILSDOWN Case Study</h1>\n",
    "<h2>Notebook your IDV visualization journey</h2>\n",
    "<h3>and connect its data sources to Python tools</h3>\n",
    "\n",
    "-------------\n",
    "### See the [0:59 YouTube video intro](https://cdn.pixabay.com/photo/2015/05/20/10/38/work-in-progress-775163_1280.jpg) that uses this notebook\n",
    "\n",
    "### Documentation is [here](http://unidata.github.io/drilsdown), from [this repo](http://github.com/unidata/drilsdown)\n",
    "\n",
    "<div style=\"clear:both\"></div>\n",
    "</div>\n",
    "\n",
    "<hr style=\"height:2px;\">\n",
    "\n",
    "\n",
    "\n",
    "### Sections\n",
    "1. <a href=\"#install\">Install & launch ipython_IDV</a>\n",
    "1. <a href=\"#capture\">Capture images & movies (and optionally, replication bundles)</a>\n",
    "1. <a href=\"#python\">Python interaction with your IDV session</a>\n",
    "1. <a href=\"#publish\">Publish to a RAMADDA repository</a>\n"
   ]
  },
  {
   "cell_type": "markdown",
   "metadata": {},
   "source": [
    "<a name=\"install\"></a>\n",
    "# Install the DRILSDOWN package, and launch\n",
    "\n",
    "## Already a Jupyter user? \n",
    "Install the DRILSDOWN package. \n",
    "The cell below installs the DRILSDOWN package and its dependencies in your existing environment, using [this tactic](http://jakevdp.github.io/blog/2017/12/05/installing-python-packages-from-jupyter/)."
   ]
  },
  {
   "cell_type": "code",
   "execution_count": null,
   "metadata": {},
   "outputs": [],
   "source": [
    "#import sys\n",
    "#!{sys.executable} -m pip install drilsdown --upgrade   ### for pip package\n",
    "\n",
    "# !conda install --yes --prefix {sys.prefix} drilsdown  ### for conda package "
   ]
  },
  {
   "cell_type": "markdown",
   "metadata": {},
   "source": [
    "## New to Jupyter? \n",
    "Create and use our DRILSDOWN environment in Anaconda. \n",
    "\n",
    "Uncomment and use the cell below to download our environment.yml file. Then, [import the environment](https://docs.anaconda.com/anaconda/navigator/tutorials/manage-environments#importing-an-environment) (it takes a few minutes as packages are installed). Finally, launch jupyter notebook after selecting the DRILSDOWN [environment (channel)](https://docs.anaconda.com/_images/navigator-home-1-6.png). More in this [science-oriented guide to Jupyter notebooks](https://unidata.github.io/online-python-training/notebook.html)"
   ]
  },
  {
   "cell_type": "code",
   "execution_count": null,
   "metadata": {},
   "outputs": [],
   "source": [
    "# The 3 lines here will download DRILSDOWN's environment.yml file\n",
    "\n",
    "#import requests\n",
    "#r = requests.get('https://raw.githubusercontent.com/Unidata/drilsdown/master/environment.yml', allow_redirects=True)\n",
    "#open('DRILSDOWN_environment.yml', 'wb').write(r.content)"
   ]
  },
  {
   "cell_type": "markdown",
   "metadata": {},
   "source": [
    "# Launch! \n",
    "After executing this cell, you should see this [Control Panel](https://github.com/Unidata/drilsdown/blob/master/docs/_static/ipython_IDV_ControlPanel.png). \n",
    "\n",
    "**Buttons** append their outputs to the Control Panel's results area. **Clear Outputs** will clear the whole cell. "
   ]
  },
  {
   "cell_type": "code",
   "execution_count": null,
   "metadata": {},
   "outputs": [],
   "source": [
    "# Load ipython_IDV extension. If successful, It will make a user interface (Control Panel) widget.\n",
    "\n",
    "%reload_ext ipython_IDV"
   ]
  },
  {
   "cell_type": "markdown",
   "metadata": {},
   "source": [
    "### Code route: You can also get a GUI display of a set of IDV bundles using [this example](https://github.com/Unidata/drilsdown/blob/master/UseCase_Examples/Basic_Examples/Expose_RAMADDA_content_code.ipynb)"
   ]
  },
  {
   "cell_type": "markdown",
   "metadata": {},
   "source": [
    "<a href=\"#top\">Top</a>\n",
    "<hr style=\"height:2px;\">"
   ]
  },
  {
   "cell_type": "markdown",
   "metadata": {},
   "source": [
    "<a name=\"capture\"></a>\n",
    "## Operate the IDV and capture images, movies, & bundles (state files)\n",
    "\n",
    "### 1. **Install and learn** to operate the IDV: Consider my [IDV intro .ppt](http://weather.rsmas.miami.edu/repository/entry/show?entryid=dd95b65c-09a5-43a5-9f44-da5243e302f4), or [Unidata's documentation](https://www.unidata.ucar.edu/software/idv/#documentation) and [tutorial](https://www.unidata.ucar.edu/software/idv/docs/workshop/).\n",
    "\n",
    "### 2. If you haven't yet, **launch** the IDV on this machine (from your Control Panel, or manually). \n",
    "\n",
    "### 3. **Display** something meaningful in the IDV. \n",
    "\n",
    "Perhaps by [loading a bundle](https://www.unidata.ucar.edu/software/idv/docs/userguide/Bundles.html) from our [MapesIDVcollection](http://weather.rsmas.miami.edu/repository/entry/show?entryid=115a4ff0-10de-4fba-86d7-66cd42d6d8de) or some other [Catalog](https://www.unidata.ucar.edu/software/idv/docs/userguide/data/choosers/CatalogChooser.html), or uncomment the following cell for a standard example."
   ]
  },
  {
   "cell_type": "code",
   "execution_count": null,
   "metadata": {},
   "outputs": [],
   "source": [
    "# If you want to load a standard illustration bundle, uncomment this \n",
    "#%load_bundle https://geodesystems.com/repository/entry/get/example_grid.xidv?entryid=4728e5eb-fa89-4af8-8162-e2f66a9cd0c9"
   ]
  },
  {
   "cell_type": "markdown",
   "metadata": {},
   "source": [
    "### The cells below capture your IDV session's images and movies"
   ]
  },
  {
   "cell_type": "code",
   "execution_count": null,
   "metadata": {},
   "outputs": [],
   "source": [
    "%make_image -capture legend -caption \"My great image\""
   ]
  },
  {
   "cell_type": "code",
   "execution_count": null,
   "metadata": {},
   "outputs": [],
   "source": [
    "%make_movie -capture legend -caption \"My great movie\""
   ]
  },
  {
   "cell_type": "markdown",
   "metadata": {},
   "source": [
    "### For exact replicability, capture a <1 MB sized IDV state bundle ane embed it in this notebook"
   ]
  },
  {
   "cell_type": "code",
   "execution_count": null,
   "metadata": {},
   "outputs": [],
   "source": [
    "# To replicate the IDV's state exactly (active display set, viewpoint, etc.), \n",
    "# embed its state bundle here in this notebook \n",
    "\n",
    "%save_bundle -embed "
   ]
  },
  {
   "cell_type": "markdown",
   "metadata": {},
   "source": [
    "<a name=\"advanced\"></a>\n",
    "### An advanced code route:  [capture multiple movies of different regions of a bundle](https://github.com/Unidata/drilsdown/blob/master/UseCase_Examples/Basic_Examples/Code_capture_IDV_multiple_movies.ipynb)\n",
    "#### (*takes a couple minutes!*)"
   ]
  },
  {
   "cell_type": "markdown",
   "metadata": {},
   "source": [
    "<a href=\"#top\">Top</a>\n",
    "<hr style=\"height:2px;\">"
   ]
  },
  {
   "cell_type": "markdown",
   "metadata": {},
   "source": [
    "<a name=\"python\"></a>\n",
    "## The path to Python\n",
    "\n",
    "You can also pass data back and forth with the IDV. Currently, this involves reading and writing local netCDF files on disk. \n",
    "\n",
    "### Reading from IDV: example is [here](https://github.com/Unidata/drilsdown/blob/master/UseCase_Examples/Basic_Examples/Load_IDVdata_into_python.ipynb) with key lines below, commented out"
   ]
  },
  {
   "cell_type": "code",
   "execution_count": null,
   "metadata": {},
   "outputs": [],
   "source": [
    "#from ipython_IDV import Idv\n",
    "#data = Idv.export_data(display_id='windspeed')\n",
    "#windspeed=data.variables['WindSpeed']\n",
    "#print(windspeed)"
   ]
  },
  {
   "cell_type": "markdown",
   "metadata": {},
   "source": [
    "### Writing data into the IDV session: example is [here](https://github.com/Unidata/drilsdown/blob/master/UseCase_Examples/Basic_Examples/Sent_python_data_to_IDV.ipynb)\n",
    "\n",
    "### using our new  .to_IDV() method in xarray"
   ]
  },
  {
   "cell_type": "code",
   "execution_count": null,
   "metadata": {},
   "outputs": [],
   "source": []
  },
  {
   "cell_type": "markdown",
   "metadata": {},
   "source": [
    "<a href=\"#top\">Top</a>\n",
    "<hr style=\"height:2px;\">"
   ]
  },
  {
   "cell_type": "markdown",
   "metadata": {},
   "source": [
    "<a name=\"publish\"></a>\n",
    "# Publishing to a RAMADDA repository\n",
    "\n",
    "### Everything in RAMADDA is an *entry,* with an *entry type*. \n",
    "\n",
    "## 1. To publish an *IDV bundle* entry type, with a quicklook image:\n",
    "\n",
    "\n",
    "1. In your IDV, install the [RAMADDA publisher plugin](https://www.unidata.ucar.edu/software/idv/docs/workshop/savingstate/Ramadda.html). \n",
    "\n",
    "2. Publisher-->Configure like [this](https://github.com/Unidata/drilsdown/blob/master/docs/_static/ConfigureIDVPublisher_screenshot.png)\n",
    "\n",
    "3. Select the \"publish\" checkbox in the ipython_IDV Control Panel, [and click Make Image button](https://github.com/Unidata/drilsdown/blob/master/docs/_static/Publish_from_IDV_example.png). Then follow the dialog in the IDV session, finding a folder that you have permissions in (like the Contributed folder). An actual example created this way is [here](http://weather.rsmas.miami.edu/repository/entry/show?entryid=593c2d1e-d35a-474e-8ff9-36bc68fe0a44).\n",
    "\n",
    "#### *Note: if you publish to my anonymous-upload folder, an [admin](mailto:mapes@miami.edu) needs to be asked to go in and permit it to be displayed.*"
   ]
  },
  {
   "cell_type": "code",
   "execution_count": null,
   "metadata": {},
   "outputs": [],
   "source": [
    "%reload_ext ipython_IDV"
   ]
  },
  {
   "cell_type": "markdown",
   "metadata": {},
   "source": [
    "\n",
    "## 2. To publish an *DRILSDOWN Case Study* entry type:\n",
    "\n",
    "### A *DRILSDOWN Case Study* folder contains a .ipynb notebook, a .zidv or .xidv IDV bundle, and any other files. \n",
    "\n",
    "#### RAMADDA displays a *DRILSDOWN Case Study* in a viewer-friendly manner like [this](http://weather.rsmas.miami.edu/repository/entry/show?entryid=9ae3aea4-a86e-4592-b686-20398e698987). \n",
    "\n",
    "In the future, other services could be added to this specific entry type (like composite averages of a set of identically-shaped .zidv files). "
   ]
  },
  {
   "cell_type": "markdown",
   "metadata": {},
   "source": [
    "--------------- \n",
    "# Work unfinshed below here \n",
    "\n",
    "## Let's publish *this notebook* using Python code calls: "
   ]
  },
  {
   "cell_type": "code",
   "execution_count": null,
   "metadata": {},
   "outputs": [],
   "source": [
    "%publish_notebook \"http://weather.rsmas.miami.edu/repository/entry/show?entryid=e322e383-f409-41ee-b50f-e6d3be3625c1\""
   ]
  },
  {
   "cell_type": "code",
   "execution_count": null,
   "metadata": {},
   "outputs": [],
   "source": [
    "# Publish in the Contributed folder, \n",
    "# http://weather.rsmas.miami.edu/repository/entry/show?entryid=e322e383-f409-41ee-b50f-e6d3be3625c1\n",
    "\n",
    "from ipython_IDV import Ramadda\n",
    "RAM = Ramadda(\"http://weather.rsmas.miami.edu/repository/entry/show?entryid=e322e383-f409-41ee-b50f-e6d3be3625c1\")"
   ]
  },
  {
   "cell_type": "code",
   "execution_count": null,
   "metadata": {},
   "outputs": [],
   "source": [
    "# USER and PASSWORD can be blank for that Contributed folder\n",
    "\n",
    "import os\n",
    "os.environ['RAMADDA_USER'] = \"\"\n",
    "os.environ['RAMADDA_PASSWORD'] = \"\"\n",
    "RAM.publish('Test_Publish', file=\"./Install_and_demo.ipynb\")"
   ]
  },
  {
   "cell_type": "markdown",
   "metadata": {},
   "source": [
    "<a href=\"#top\">Top</a>\n",
    "<hr style=\"height:2px;\">"
   ]
  },
  {
   "cell_type": "markdown",
   "metadata": {},
   "source": [
    "<a name=\"coding\"></a>\n",
    "## Coding the production of Case Studies\n",
    "\n",
    "### idv_teleport \n",
    "**idv_teleport** is DRILSDOWN's Python and command-line scripting tool to batch-generate **one, or a set (folder)** of data-zipped (.zidv) bundles with user-defined *time range* and *bounding box*, [like this set](http://weather.rsmas.miami.edu/repository/entry/show?entryid=4370a4c4-0a80-4469-ba04-8861b462aad3). \n",
    "\n",
    "The -h or -help argument explains its use, or [see the repo](https://github.com/suvarchal/IDV_teleport). \n",
    "\n",
    "### ramadda_publish\n",
    "**ramadda_publish** publishes files or folders to a RAMADDA. If your folder contains .ipynb notebooks, and is tagged as a DRILSDOWN Case Study, it will be displayed like this [library of Case Studies](http://weather.rsmas.miami.edu/repository/entry/show?entryid=9ae3aea4-a86e-4592-b686-20398e698987). \n",
    "\n",
    "Again the -h argument or [the repo](https://github.com/suvarchal/ramadda_publish) explains its use. \n",
    "\n",
    "# Not yet written..."
   ]
  },
  {
   "cell_type": "code",
   "execution_count": null,
   "metadata": {},
   "outputs": [],
   "source": []
  },
  {
   "cell_type": "markdown",
   "metadata": {},
   "source": [
    "<a href=\"#top\">Top</a>\n",
    "<hr style=\"height:2px;\">"
   ]
  },
  {
   "cell_type": "code",
   "execution_count": 1,
   "metadata": {},
   "outputs": [
    {
     "name": "stdout",
     "output_type": "stream",
     "text": [
      "Mon Jun 18 17:12:09 MDT 2018\r\n"
     ]
    }
   ],
   "source": [
    "# Time stamp this notebook \n",
    "!date"
   ]
  },
  {
   "cell_type": "code",
   "execution_count": null,
   "metadata": {},
   "outputs": [],
   "source": []
  }
 ],
 "metadata": {
  "kernelspec": {
   "display_name": "Python 3",
   "language": "python",
   "name": "python3"
  },
  "language_info": {
   "codemirror_mode": {
    "name": "ipython",
    "version": 3
   },
   "file_extension": ".py",
   "mimetype": "text/x-python",
   "name": "python",
   "nbconvert_exporter": "python",
   "pygments_lexer": "ipython3",
   "version": "3.6.5"
  }
 },
 "nbformat": 4,
 "nbformat_minor": 2
}
