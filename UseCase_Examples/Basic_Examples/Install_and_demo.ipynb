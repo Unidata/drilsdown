{
 "cells": [
  {
   "cell_type": "markdown",
   "metadata": {},
   "source": [
    "<a name=\"top\"></a>\n",
    "<div style=\"width:600 px\">\n",
    "\n",
    "<div style=\"float:right; width:200 px; height:200px;\">\n",
    "<img src=\"https://raw.githubusercontent.com/unidata/drilsdown/master/docs/_static/DRILSDOWN_logo.png\" alt=\"DRILSDOWN Logo\" style=\"height: 200px;\">\n",
    "</div>\n",
    "\n",
    "<div style=\"float:right; width:98 px; height:98px;\">\n",
    "<img src=\"https://www.earthcube.org/sites/default/files/doc-repository/logo_earthcube_cube-only_SMALL.png\" alt=\"Earthcube Logo\" style=\"height: 98px;\">\n",
    "</div>\n",
    "\n",
    "\n",
    "<h1>DRILSDOWN Case Study</h1>\n",
    "<h2>Notebook your IDV visualization experience</h2>\n",
    "<h3>and connect it to Python tools</h3>\n",
    "\n",
    "\n",
    "### See the [0:59 YouTube video intro](https://cdn.pixabay.com/photo/2015/05/20/10/38/work-in-progress-775163_1280.jpg) that uses this notebook, and its followups.\n",
    "\n",
    "<div style=\"clear:both\"></div>\n",
    "</div>\n",
    "\n",
    "<hr style=\"height:2px;\">\n",
    "\n",
    "\n",
    "\n",
    "### Sections\n",
    "1. <a href=\"#install\">Install & launch</a>\n",
    "1. <a href=\"#capure\">Capture images & movies (optionally: with replication bundles)</a>\n",
    "1. <a href=\"#python\">Python interaction with your IDV session</a>\n",
    "1. <a href=\"#publish\">Publish this Case Study to RAMADDA repository</a>\n"
   ]
  },
  {
   "cell_type": "markdown",
   "metadata": {},
   "source": [
    "<a name=\"install\"></a>\n",
    "## Install and launch DRILSDOWN package\n",
    "\n",
    "**Install drilsdown**, currently a pip package\n",
    "\n",
    "**Better:** create a conda environment using our [environment.yml](https://raw.githubusercontent.com/Unidata/drilsdown/master/environment.yml), and launch jupyter in that environment.\n",
    "\n",
    "**Simpler for newbie:** Uncomment and run commands in the cell below, using [this tactic](https://jakevdp.github.io/blog/2017/12/05/installing-python-packages-from-jupyter). \n",
    "\n",
    "**Then, test it** with the second cell: it load's DRILSDOWN's *ipython_IDV* iPython extension. "
   ]
  },
  {
   "cell_type": "code",
   "execution_count": 11,
   "metadata": {},
   "outputs": [],
   "source": [
    "# INSTALL DRILSDOWN IN THIS JUPYTER ENVIRONMENT if it isn't there\n",
    "\n",
    "# import sys\n",
    "# !conda install --yes --prefix {sys.prefix} drilsdown  ### for conda packages \n",
    "# !{sys.executable} -m pip install drilsdown --upgrade\n",
    "# !{sys.executable} -m pip install xarray --upgrade"
   ]
  },
  {
   "cell_type": "code",
   "execution_count": 1,
   "metadata": {},
   "outputs": [
    {
     "name": "stderr",
     "output_type": "stream",
     "text": [
      "UsageError: Line magic function `%make_ui` not found.\n"
     ]
    }
   ],
   "source": [
    "# Load the ipython_IDV bridge, an iPython extension. Then, make a ui (Control Panel)\n",
    "%reload_ext ipython_IDV\n",
    "%make_ui"
   ]
  },
  {
   "cell_type": "code",
   "execution_count": 13,
   "metadata": {},
   "outputs": [],
   "source": [
    "%reload_ext ipython_IDV"
   ]
  },
  {
   "cell_type": "markdown",
   "metadata": {},
   "source": [
    "If all went well, you should see the iPython-IDV Control Panel. \n",
    "\n",
    "**Commands Help** or the other buttons append to the Control Panel's results area. **Clear Outputs** will clear that. "
   ]
  },
  {
   "cell_type": "markdown",
   "metadata": {},
   "source": [
    "## In addition to playing with the Control Panel's search functions, \n",
    "### you can also view a set of textbook IDV bundles using [this example](./LMT%20Notebook.ipynb)\n",
    "# Fails!"
   ]
  },
  {
   "cell_type": "markdown",
   "metadata": {},
   "source": [
    "<a href=\"#top\">Top</a>\n",
    "<hr style=\"height:2px;\">"
   ]
  },
  {
   "cell_type": "markdown",
   "metadata": {},
   "source": [
    "<a name=\"capture\"></a>\n",
    "## Operate the IDV, and capture images, movies, & bundles\n",
    "\n",
    "* **Install and learn** to operate the IDV: [Mapes intro .ppt](http://weather.rsmas.miami.edu/repository/entry/show?entryid=dd95b65c-09a5-43a5-9f44-da5243e302f4) or [Unidata's documentation](https://www.unidata.ucar.edu/software/idv/#documentation) and [tutorial](https://www.unidata.ucar.edu/software/idv/docs/workshop/).\n",
    "\n",
    "* If you haven't yet, **launch** the IDV on this machine (from your Control Panel, or manually). \n",
    "\n",
    "* **Display** something meaningful in the IDV. \n",
    "    * perhaps by [loading a bundle](https://www.unidata.ucar.edu/software/idv/docs/userguide/Bundles.html) from our [MapesIDVcollection](http://weather.rsmas.miami.edu/repository/entry/show?entryid=115a4ff0-10de-4fba-86d7-66cd42d6d8de) or from a [Catalog](https://www.unidata.ucar.edu/software/idv/docs/userguide/data/choosers/CatalogChooser.html). \n",
    "\n",
    "The cells below capture images and movies, and (for replicability) 1 MB sized IDV state bundles."
   ]
  },
  {
   "cell_type": "code",
   "execution_count": null,
   "metadata": {},
   "outputs": [],
   "source": [
    "%make_image -capture legend -caption \"My great image\""
   ]
  },
  {
   "cell_type": "code",
   "execution_count": null,
   "metadata": {},
   "outputs": [],
   "source": [
    "%make_movie -capture legend -caption \"My great movie\""
   ]
  },
  {
   "cell_type": "code",
   "execution_count": null,
   "metadata": {},
   "outputs": [],
   "source": [
    "# To replicate the IDV's state exactly (displays, viewpoint, etc.), \n",
    "# embed its state bundle here in this notebook \n",
    "\n",
    "%save_bundle -embed "
   ]
  },
  {
   "cell_type": "markdown",
   "metadata": {},
   "source": [
    "<a name=\"advanced\"></a>\n",
    "### Advanced: capture multiple movie regions \n",
    "#### (*takes a couple minutes!*)\n",
    "[Example](./multiple_bounds.ipynb)\n",
    "# Fails!"
   ]
  },
  {
   "cell_type": "markdown",
   "metadata": {},
   "source": [
    "<a href=\"#top\">Top</a>\n",
    "<hr style=\"height:2px;\">"
   ]
  },
  {
   "cell_type": "markdown",
   "metadata": {},
   "source": [
    "<a name=\"python\"></a>\n",
    "## The path to Python and back\n",
    "\n",
    "You can also pass data back and forth with the IDV. Currently, this involves commanding the IDV to read and write local disk files. \n",
    "\n",
    "### An example is [here](./load_data.ipynb)\n",
    "# Fails!"
   ]
  },
  {
   "cell_type": "markdown",
   "metadata": {},
   "source": [
    "<a href=\"#top\">Top</a>\n",
    "<hr style=\"height:2px;\">"
   ]
  },
  {
   "cell_type": "markdown",
   "metadata": {},
   "source": [
    "<a name=\"publish\"></a>\n",
    "## Publishing to a RAMADDA repository\n",
    "\n",
    "A *DRILSDOWN Case Study* folder contains a .ipynb notebook, a .zidv or .xidv IDV bundle, and any other files. RAMADDA displays a Case Study in a [user-friendly manner](http://weather.rsmas.miami.edu/repos MapesIDVcollection/DRILSDOWN Case Studies). \n",
    "\n",
    "You can publish **this notebook** as an example. To do this, \n",
    "\n",
    "1. In your IDV, install the [RAMADDA publisher plugin](). \n",
    "\n",
    "2. Publisher-->Configure like [this]()\n",
    "\n",
    "3. You can use the \"publish\" checkbox in the ipython_IDV Control Panel when you save an image, movie, or bundle. \n",
    "\n",
    "    * Then follow the [dialog in the IDV session](), finding a folder that you have permissions in (like the Contributed folder). *Note: if you publish to my anonymous-upload folder, an [admin](mailto:mapes@miami.edu) needs to go in and permit it to be displayed.*\n",
    "\n",
    "\n",
    "4. You can also publish using Python code calls like this: "
   ]
  },
  {
   "cell_type": "code",
   "execution_count": null,
   "metadata": {},
   "outputs": [],
   "source": [
    "from drilsdown import Ramadda\n",
    "Ramadda(\"http://weather.rsmas.miami.edu/repository/entry/show?entryid=4928328d-4148-4a35-8c36-f8c77f2680bc\").do_list(label=\"LMT Manual Materials\",display=True)\n"
   ]
  },
  {
   "cell_type": "code",
   "execution_count": null,
   "metadata": {},
   "outputs": [],
   "source": []
  },
  {
   "cell_type": "markdown",
   "metadata": {},
   "source": [
    "<a href=\"#top\">Top</a>\n",
    "<hr style=\"height:2px;\">"
   ]
  },
  {
   "cell_type": "markdown",
   "metadata": {},
   "source": [
    "<a name=\"coding\"></a>\n",
    "## Coding the production of Case Studies\n",
    "\n",
    "### idv_teleport \n",
    "**idv_teleport** is DRILSDOWN's Python and command-line scripting tool to batch-generate **one, or a set (folder)** of data-zipped (.zidv) bundles with user-defined *time range* and *bounding box*, [like this set](http://weather.rsmas.miami.edu/repository/entry/show?entryid=4370a4c4-0a80-4469-ba04-8861b462aad3). \n",
    "\n",
    "The -h or -help argument explains its use, or [see the repo](https://github.com/suvarchal/IDV_teleport). \n",
    "\n",
    "### ramadda_publish\n",
    "**ramadda_publish** publishes files or folders to a RAMADDA. If your folder contains .ipynb notebooks, and is tagged as a DRILSDOWN Case Study, it will be displayed like this [library of Case Studies](http://weather.rsmas.miami.edu/repository/entry/show?entryid=9ae3aea4-a86e-4592-b686-20398e698987). \n",
    "\n",
    "Again the -h argument or [the repo](https://github.com/suvarchal/ramadda_publish) explains its use. \n",
    "\n",
    "The example below publishes two bundles based on the  <a href=\"#advanced\">**Advanced: capture multiple movie regions** example above</a>.\n",
    "\n",
    "# Note yet written"
   ]
  },
  {
   "cell_type": "code",
   "execution_count": null,
   "metadata": {},
   "outputs": [],
   "source": []
  },
  {
   "cell_type": "markdown",
   "metadata": {},
   "source": [
    "<a href=\"#top\">Top</a>\n",
    "<hr style=\"height:2px;\">"
   ]
  },
  {
   "cell_type": "code",
   "execution_count": null,
   "metadata": {},
   "outputs": [],
   "source": []
  }
 ],
 "metadata": {
  "kernelspec": {
   "display_name": "Python 3",
   "language": "python",
   "name": "python3"
  },
  "language_info": {
   "codemirror_mode": {
    "name": "ipython",
    "version": 3
   },
   "file_extension": ".py",
   "mimetype": "text/x-python",
   "name": "python",
   "nbconvert_exporter": "python",
   "pygments_lexer": "ipython3",
   "version": "3.6.5"
  }
 },
 "nbformat": 4,
 "nbformat_minor": 2
}
