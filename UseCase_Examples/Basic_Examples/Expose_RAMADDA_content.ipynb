{
 "cells": [
  {
   "cell_type": "markdown",
   "metadata": {},
   "source": [
    "# Code route to displaying a list of RAMADDA resouces"
   ]
  },
  {
   "cell_type": "code",
   "execution_count": null,
   "metadata": {},
   "outputs": [],
   "source": [
    "%reload_ext ipython_IDV\n",
    "\n",
    "from ipython_IDV import Ramadda\n",
    "\n",
    "URL = \"http://weather.rsmas.miami.edu/repository/entry/show?entryid=4928328d-4148-4a35-8c36-f8c77f2680bc\"\n",
    "Ramadda(URL).do_list(label=\"LMT Manual Materials\",display=True)\n"
   ]
  },
  {
   "cell_type": "code",
   "execution_count": null,
   "metadata": {},
   "outputs": [],
   "source": []
  }
 ],
 "metadata": {
  "kernelspec": {
   "display_name": "Python 3",
   "language": "python",
   "name": "python3"
  },
  "language_info": {
   "codemirror_mode": {
    "name": "ipython",
    "version": 3
   },
   "file_extension": ".py",
   "mimetype": "text/x-python",
   "name": "python",
   "nbconvert_exporter": "python",
   "pygments_lexer": "ipython3",
   "version": "3.6.5"
  },
  "widgets": {
   "state": {
    "bb9ea18da9a4403fa1942b8e78f09975": {
     "views": [
      {
       "cell_index": 0
      }
     ]
    },
    "cee61e5dc7b24c859e96f893afa02983": {
     "views": [
      {
       "cell_index": 0
      }
     ]
    }
   },
   "version": "1.2.0"
  }
 },
 "nbformat": 4,
 "nbformat_minor": 2
}
