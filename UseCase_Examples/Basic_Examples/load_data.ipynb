{
 "cells": [
  {
   "cell_type": "code",
   "execution_count": 2,
   "metadata": {
    "collapsed": false
   },
   "outputs": [],
   "source": [
    "%reload_ext drilsdown\n",
    "from drilsdown import Idv\n",
    "\n"
   ]
  },
  {
   "cell_type": "code",
   "execution_count": 3,
   "metadata": {
    "collapsed": true
   },
   "outputs": [],
   "source": [
    "%load_bundle https://geodesystems.com/repository/entry/get/example_grid.xidv?entryid=4728e5eb-fa89-4af8-8162-e2f66a9cd0c9\n"
   ]
  },
  {
   "cell_type": "code",
   "execution_count": 4,
   "metadata": {
    "collapsed": false
   },
   "outputs": [
    {
     "name": "stdout",
     "output_type": "stream",
     "text": [
      "<class 'netCDF4._netCDF4.Variable'>\n",
      "float32 WindSpeed(time, level, y, x)\n",
      "    units: meters/second\n",
      "    grid_mapping: lambert_conformal_conic\n",
      "unlimited dimensions: \n",
      "current shape = (2, 19, 65, 93)\n",
      "filling off\n",
      "\n"
     ]
    }
   ],
   "source": [
    "data1 = Idv.export_data(display_id='z')\n",
    "Z=data1.variables['Z']\n",
    "data2 = Idv.export_data(display_id='windspeed')\n",
    "windspeed=data2.variables['WindSpeed']\n",
    "print(windspeed)\n",
    "#print (Z)"
   ]
  },
  {
   "cell_type": "code",
   "execution_count": null,
   "metadata": {
    "collapsed": true
   },
   "outputs": [],
   "source": []
  }
 ],
 "metadata": {
  "anaconda-cloud": {},
  "kernelspec": {
   "display_name": "Python [unidata-workshop]",
   "language": "python",
   "name": "Python [unidata-workshop]"
  },
  "language_info": {
   "codemirror_mode": {
    "name": "ipython",
    "version": 3
   },
   "file_extension": ".py",
   "mimetype": "text/x-python",
   "name": "python",
   "nbconvert_exporter": "python",
   "pygments_lexer": "ipython3",
   "version": "3.6.0"
  },
  "widgets": {
   "state": {
    "78833bb5006c4f6fb1d9debdb376cb5b": {
     "views": [
      {
       "cell_index": 0.0
      }
     ]
    }
   },
   "version": "1.2.0"
  }
 },
 "nbformat": 4,
 "nbformat_minor": 0
}
