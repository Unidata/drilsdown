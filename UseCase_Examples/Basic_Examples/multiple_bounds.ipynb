{
 "cells": [
  {
   "cell_type": "code",
   "execution_count": 23,
   "metadata": {
    "collapsed": false
   },
   "outputs": [],
   "source": [
    "import os\n",
    "os.environ['drilsdown.showui'] = \"False\"\n",
    "%reload_ext drilsdown\n",
    "from drilsdown import Idv\n",
    "\n"
   ]
  },
  {
   "cell_type": "code",
   "execution_count": 24,
   "metadata": {
    "collapsed": false
   },
   "outputs": [],
   "source": [
    "#Set a URL to an example bundle file on RAMADDA\n",
    "Idv.file_url =\"https://geodesystems.com/repository/entry/get/example_grid.xidv?entryid=4728e5eb-fa89-4af8-8162-e2f66a9cd0c9\"\n",
    "bboxes = [[50,-130,40,-100],[50,-100,40,-75],[40,-130,20,-100],[40,-100,20,-75]]\n",
    "for i in range(len(bboxes)):\n",
    "    bbox=bboxes[i];\n",
    "    Idv.load_bundle(Idv.file_url,bbox);\n",
    "    label = \"BBOX:\" + repr(bbox[0]) +\"/\" + repr(bbox[1]) +\"  \" + repr(bbox[2]) +\"/\" + repr(bbox[3]);\n",
    "    Idv.make_movie(caption=label,display=True)\n"
   ]
  },
  {
   "cell_type": "code",
   "execution_count": null,
   "metadata": {
    "collapsed": true
   },
   "outputs": [],
   "source": []
  }
 ],
 "metadata": {
  "anaconda-cloud": {},
  "kernelspec": {
   "display_name": "Python [Root]",
   "language": "python",
   "name": "Python [Root]"
  },
  "language_info": {
   "codemirror_mode": {
    "name": "ipython",
    "version": 3
   },
   "file_extension": ".py",
   "mimetype": "text/x-python",
   "name": "python",
   "nbconvert_exporter": "python",
   "pygments_lexer": "ipython3",
   "version": "3.5.2"
  }
 },
 "nbformat": 4,
 "nbformat_minor": 0
}
